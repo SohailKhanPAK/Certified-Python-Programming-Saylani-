{
 "cells": [
  {
   "cell_type": "markdown",
   "metadata": {},
   "source": [
    "# -Variable for Numbers"
   ]
  },
  {
   "cell_type": "code",
   "execution_count": 4,
   "metadata": {},
   "outputs": [
    {
     "name": "stdout",
     "output_type": "stream",
     "text": [
      "5\n"
     ]
    }
   ],
   "source": [
    "x = 10        # datatype fo 'x' is integer mean Number        \n",
    "y = 5         # datatype fo 'y' is integer also \n",
    "result = x-y     #so we can use math here , or we can say , we can use mathematical operators here like + - / * etc ..\n",
    "print (result)    #it will print the output"
   ]
  },
  {
   "cell_type": "markdown",
   "metadata": {},
   "source": [
    "### if we do math operater wih string variables , result will be an error . because we can not do math operator with Strings "
   ]
  },
  {
   "cell_type": "code",
   "execution_count": 16,
   "metadata": {},
   "outputs": [
    {
     "name": "stdout",
     "output_type": "stream",
     "text": [
      "5\n"
     ]
    }
   ],
   "source": [
    "x = 10        # datatype fo 'x' is integer mean Number       \n",
    "y = \"5\"        # now datatype of 'y' is \"String\" so ?\n",
    "\n",
    "y= 5            ##remove this , i do not wanna face error so i m using integer value ...\n",
    "\n",
    "result = x-y     #so , i can not use math here  if i use ...\n",
    "print (result)    #it will give me error   \"TypeError: unsupported operand type(s) for -: 'int' and 'str'\"\n",
    "\n",
    "\n",
    "#remove y=5 and then run the program if you wanna see the error !! "
   ]
  },
  {
   "cell_type": "code",
   "execution_count": 19,
   "metadata": {},
   "outputs": [
    {
     "name": "stdout",
     "output_type": "stream",
     "text": [
      "30\n"
     ]
    }
   ],
   "source": [
    "number1 = 10\n",
    "number2 = 20\n",
    "result = number1 + number2\n",
    "print (result)"
   ]
  },
  {
   "cell_type": "markdown",
   "metadata": {},
   "source": [
    "# using more mathematical operators"
   ]
  },
  {
   "cell_type": "code",
   "execution_count": 21,
   "metadata": {},
   "outputs": [
    {
     "name": "stdout",
     "output_type": "stream",
     "text": [
      "25\n",
      "15\n",
      "1.1538461538461537\n",
      "195\n"
     ]
    }
   ],
   "source": [
    "num1 = 12;\n",
    "num2 = 13;\n",
    "x = num1 + num2;\n",
    "num1 = num1 + 3 ;\n",
    "z = num1 / num2;\n",
    "a = num1 * num2;\n",
    "\n",
    "print(x);\n",
    "\n",
    "print(num1);\n",
    "\n",
    "print(z);\n",
    "\n",
    "print(a);"
   ]
  }
 ],
 "metadata": {
  "kernelspec": {
   "display_name": "Python 3",
   "language": "python",
   "name": "python3"
  },
  "language_info": {
   "codemirror_mode": {
    "name": "ipython",
    "version": 3
   },
   "file_extension": ".py",
   "mimetype": "text/x-python",
   "name": "python",
   "nbconvert_exporter": "python",
   "pygments_lexer": "ipython3",
   "version": "3.7.3"
  }
 },
 "nbformat": 4,
 "nbformat_minor": 2
}
