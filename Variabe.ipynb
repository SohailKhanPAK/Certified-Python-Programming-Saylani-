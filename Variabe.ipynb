{
 "cells": [
  {
   "cell_type": "markdown",
   "metadata": {},
   "source": [
    "# -Variable"
   ]
  },
  {
   "cell_type": "code",
   "execution_count": 3,
   "metadata": {},
   "outputs": [
    {
     "name": "stdout",
     "output_type": "stream",
     "text": [
      "1\n",
      "Sohail Khan\n",
      "1 Sohail Khan\n"
     ]
    }
   ],
   "source": [
    " #you can use any word as a variable like x,y,z,i,you,they,he,she,it ...\n",
    "     #but can't use just a number , and you also can not start any variable with number.\n",
    "        \n",
    "number = 1     \n",
    "string = \"Sohail Khan\"    \n",
    "\n",
    "    #1sohail , 2sohail  this is incorrect !!\n",
    "    # sohail1 , sohail2 , str1 , str2  ... this is right way to define variables \n",
    "\n",
    "\n",
    "print (number)             #printing number \n",
    "print (string)             #printing string\n",
    "print (number,string)      #printing number string both in single print function"
   ]
  },
  {
   "cell_type": "code",
   "execution_count": 4,
   "metadata": {},
   "outputs": [
    {
     "name": "stdout",
     "output_type": "stream",
     "text": [
      "thanks for your input\n",
      "thanks for learning Pyhon\n",
      "thanks for your input thanks for learning Pyhon\n"
     ]
    }
   ],
   "source": [
    "x = \"thanks for your input\"\n",
    "y = \"thanks for learning Pyhon\"\n",
    "\n",
    "   \n",
    "    \n",
    "print (x)         #that will print \"thanks for your input\"\n",
    "print (y)         #that will print \"thanks for learning Pyhon\"\n",
    "\n",
    " #if you want to print both variables\n",
    "    \n",
    "print(x,y)  #that will print both variables !"
   ]
  },
  {
   "cell_type": "code",
   "execution_count": 5,
   "metadata": {},
   "outputs": [
    {
     "name": "stdout",
     "output_type": "stream",
     "text": [
      "Mark is working on 2nd Chapter , class is Beginer\n"
     ]
    }
   ],
   "source": [
    "work = \"is working on 2nd Chapter ,\"   \n",
    "Class = \"class is Beginer\"\n",
    "name = \"Mark\"     #you can use your name here :)\n",
    "print(name,work,Class)"
   ]
  }
 ],
 "metadata": {
  "kernelspec": {
   "display_name": "Python 3",
   "language": "python",
   "name": "python3"
  },
  "language_info": {
   "codemirror_mode": {
    "name": "ipython",
    "version": 3
   },
   "file_extension": ".py",
   "mimetype": "text/x-python",
   "name": "python",
   "nbconvert_exporter": "python",
   "pygments_lexer": "ipython3",
   "version": "3.7.3"
  }
 },
 "nbformat": 4,
 "nbformat_minor": 2
}
